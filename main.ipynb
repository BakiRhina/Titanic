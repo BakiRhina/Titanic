{
 "cells": [
  {
   "cell_type": "markdown",
   "metadata": {},
   "source": [
    "# Titanic - Machine Learning from Disaster\n",
    "\n",
    "- Experimental flow\n",
    "\n",
    "1. Data exploration\n",
    "2. Data preprocessing\n",
    "3. Models developement\n",
    "4. Training\n",
    "5. Evaluation\n",
    "6. Testing\n",
    "7. Results\n",
    "8. Discussion\n"
   ]
  },
  {
   "cell_type": "code",
   "execution_count": null,
   "metadata": {},
   "outputs": [],
   "source": []
  }
 ],
 "metadata": {
  "language_info": {
   "name": "python"
  }
 },
 "nbformat": 4,
 "nbformat_minor": 2
}
